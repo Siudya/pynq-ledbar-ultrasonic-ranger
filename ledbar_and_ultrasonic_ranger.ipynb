{
 "cells": [
  {
   "cell_type": "markdown",
   "metadata": {},
   "source": [
    "## 加载Base Overlay"
   ]
  },
  {
   "cell_type": "code",
   "execution_count": 1,
   "metadata": {},
   "outputs": [
    {
     "data": {
      "application/javascript": [
       "\n",
       "require(['notebook/js/codecell'], function(codecell) {\n",
       "  codecell.CodeCell.options_default.highlight_modes[\n",
       "      'magic_text/x-csrc'] = {'reg':[/^%%microblaze/]};\n",
       "  Jupyter.notebook.events.one('kernel_ready.Kernel', function(){\n",
       "      Jupyter.notebook.get_cells().map(function(cell){\n",
       "          if (cell.cell_type == 'code'){ cell.auto_highlight(); } }) ;\n",
       "  });\n",
       "});\n"
      ]
     },
     "metadata": {},
     "output_type": "display_data"
    }
   ],
   "source": [
    "from pynq.overlays.base import BaseOverlay\n",
    "base = BaseOverlay(\"base.bit\")"
   ]
  },
  {
   "cell_type": "markdown",
   "metadata": {},
   "source": [
    "## 初始化LED Bar\n",
    "Grove LED bar有10个LED灯，8个绿色的LED，一个橘黄色的LED和一个红色的LED。每个LED的亮度都可以独立被控制。\n",
    "\n",
    "在这个notebook中，我们需要一块Arduino Shield，LED bar将会被连接在接口板的G4接口上。\n",
    "\n",
    "如果你手上使用的是如下图所示Seeed的Base Shield，那么LED bar将会连接在连接板的D6接口上。"
   ]
  },
  {
   "cell_type": "code",
   "execution_count": 2,
   "metadata": {},
   "outputs": [],
   "source": [
    "from pynq.lib.arduino import Grove_LEDbar\n",
    "from pynq.lib.arduino import ARDUINO_GROVE_G4\n",
    "\n",
    "# Instantiate Grove LED Bar on Arduino shield G4\n",
    "ledbar = Grove_LEDbar(base.ARDUINO, ARDUINO_GROVE_G4)\n",
    "ledbar.reset()"
   ]
  },
  {
   "cell_type": "markdown",
   "metadata": {},
   "source": [
    "## 初始化超声波传感器\n",
    "下面的程序假设超声波传感器是连接在Pmod-Grove转接器的G1接口上的，以及该转接器连接在PMODA接口上。\n"
   ]
  },
  {
   "cell_type": "code",
   "execution_count": 3,
   "metadata": {},
   "outputs": [],
   "source": [
    "%%microblaze base.PMODA\n",
    "\n",
    "#include \"xparameters.h\"\n",
    "#include \"xtmrctr.h\"\n",
    "#include \"gpio.h\"\n",
    "#include \"timer.h\"\n",
    "#include <pmod_grove.h>\n",
    "\n",
    "#define TCSR0 0x00\n",
    "#define TLR0 0x04\n",
    "#define TCR0 0x08\n",
    "#define TCSR1 0x10\n",
    "#define TLR1 0x14\n",
    "#define TCR1 0x18\n",
    "#define MAX_COUNT 0xFFFFFFFF\n",
    "\n",
    "void create_10us_pulse(gpio usranger){\n",
    "    gpio_set_direction(usranger, GPIO_OUT);\n",
    "    gpio_write(usranger, 0);\n",
    "    delay_us(2);\n",
    "    gpio_write(usranger, 1);\n",
    "    delay_us(10);\n",
    "    gpio_write(usranger, 0);\n",
    "}\n",
    "\n",
    "void configure_as_input(gpio usranger){\n",
    "    gpio_set_direction(usranger, GPIO_IN);\n",
    "}\n",
    "\n",
    "unsigned int capture_duration(gpio usranger){\n",
    "    unsigned int count1, count2;\n",
    "    count1=0;\n",
    "    count2=0;\n",
    "    XTmrCtr_WriteReg(XPAR_TMRCTR_0_BASEADDR, 0, TLR0, 0x0);\n",
    "    XTmrCtr_WriteReg(XPAR_TMRCTR_0_BASEADDR, 0, TCSR0, 0x190);\n",
    "    while(!gpio_read(usranger));\n",
    "    count1=XTmrCtr_ReadReg(XPAR_TMRCTR_0_BASEADDR, 0, TCR0);\n",
    "    while(gpio_read(usranger));\n",
    "    count2=XTmrCtr_ReadReg(XPAR_TMRCTR_0_BASEADDR, 0, TCR0);\n",
    "    if(count2 > count1) {\n",
    "        return (count2 - count1);\n",
    "    } else {\n",
    "        return((MAX_COUNT - count1) + count2);  \n",
    "    }\n",
    "}\n",
    "\n",
    "unsigned int read_raw(){\n",
    "    gpio usranger;\n",
    "    usranger = gpio_open(PMOD_G1_A);\n",
    "    create_10us_pulse(usranger);\n",
    "    configure_as_input(usranger);\n",
    "    return capture_duration(usranger);\n",
    "}"
   ]
  },
  {
   "cell_type": "markdown",
   "metadata": {},
   "source": [
    "## 封装超声波传感器的python接口"
   ]
  },
  {
   "cell_type": "code",
   "execution_count": 4,
   "metadata": {},
   "outputs": [],
   "source": [
    "from pynq import Clocks\n",
    "\n",
    "def read_distance_cm():\n",
    "    raw_value = read_raw()\n",
    "    clk_period_ns = int(1000 / Clocks.fclk0_mhz)\n",
    "    num_microseconds = raw_value * clk_period_ns * 0.001\n",
    "    if num_microseconds * 0.001 > 30:\n",
    "        return 500\n",
    "    else:\n",
    "        return num_microseconds/58"
   ]
  },
  {
   "cell_type": "markdown",
   "metadata": {},
   "source": [
    "## 靠近超声波传感器50cm以内，LED开始显示，每近5cm多亮一格\n",
    "按BTN3结束"
   ]
  },
  {
   "cell_type": "code",
   "execution_count": 6,
   "metadata": {},
   "outputs": [
    {
     "name": "stdout",
     "output_type": "stream",
     "text": [
      "结束\n"
     ]
    }
   ],
   "source": [
    "import time\n",
    "import math\n",
    "\n",
    "btns = [base.buttons[index] for index in range(4)] \n",
    "ledbar.reset()\n",
    "\n",
    "done = False\n",
    "while not done:\n",
    "    if (btns[3].read()==1):\n",
    "        print(\"结束\")\n",
    "        ledbar.reset()\n",
    "        done = True\n",
    "        \n",
    "    distance = read_distance_cm()\n",
    "    if distance < 50.0:\n",
    "        ledbar.write_level(10-math.floor(distance/5), 3, 1)\n",
    "    else:\n",
    "        ledbar.write_level(0, 3, 1)\n",
    "    time.sleep(0.1)"
   ]
  },
  {
   "cell_type": "code",
   "execution_count": null,
   "metadata": {},
   "outputs": [],
   "source": []
  }
 ],
 "metadata": {
  "kernelspec": {
   "display_name": "Python 3",
   "language": "python",
   "name": "python3"
  },
  "language_info": {
   "codemirror_mode": {
    "name": "ipython",
    "version": 3
   },
   "file_extension": ".py",
   "mimetype": "text/x-python",
   "name": "python",
   "nbconvert_exporter": "python",
   "pygments_lexer": "ipython3",
   "version": "3.6.0"
  }
 },
 "nbformat": 4,
 "nbformat_minor": 2
}
